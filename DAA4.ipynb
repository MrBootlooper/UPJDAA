{
 "cells": [
  {
   "cell_type": "code",
   "execution_count": 14,
   "id": "e1caf39c",
   "metadata": {},
   "outputs": [
    {
     "name": "stdout",
     "output_type": "stream",
     "text": [
      "3 2 1\n"
     ]
    }
   ],
   "source": [
    "var1 = 2\n",
    "var2 = 1\n",
    "var3 = 3\n",
    "\n",
    "var1, var2, var3 = var3, var1, var2\n",
    "\n",
    "print(var1, var2, var3)"
   ]
  },
  {
   "cell_type": "code",
   "execution_count": 55,
   "id": "54cca3d3",
   "metadata": {},
   "outputs": [
    {
     "name": "stdout",
     "output_type": "stream",
     "text": [
      "0 [25, 21, 22, 24, 23, 27, 26]\n",
      "1 [21, 25, 22, 24, 23, 27, 26]\n",
      "2 [21, 22, 25, 24, 23, 27, 26]\n",
      "3 [21, 22, 24, 25, 23, 27, 26]\n",
      "4 [21, 22, 24, 23, 25, 27, 26]\n",
      "5 [21, 22, 24, 23, 25, 27, 26]\n",
      "6 [21, 22, 24, 23, 25, 26, 27]\n"
     ]
    }
   ],
   "source": [
    "list = [25,21,22,24,23,27,26]\n",
    "\n",
    "lastElementIndex = len(list)-1\n",
    "print(0,list)\n",
    "for idx in range(lastElementIndex):\n",
    "    if list[idx]>list[idx+1]:\n",
    "        list[idx],list[idx+1]=list[idx+1],list[idx]\n",
    "    print(idx+1,list)"
   ]
  },
  {
   "cell_type": "code",
   "execution_count": 56,
   "id": "5e3275a0",
   "metadata": {},
   "outputs": [
    {
     "data": {
      "text/plain": [
       "[21, 22, 24, 23, 25, 26, 27]"
      ]
     },
     "execution_count": 56,
     "metadata": {},
     "output_type": "execute_result"
    }
   ],
   "source": [
    "list"
   ]
  },
  {
   "cell_type": "code",
   "execution_count": 76,
   "id": "6bd151a6",
   "metadata": {},
   "outputs": [],
   "source": [
    "def BubbleSort(list):\n",
    "    lastElementIndex = len(list)-1\n",
    "    print(0,list)\n",
    "    for passNo in range(lastElementIndex,0,-1):\n",
    "        for idx in range (passNo):\n",
    "            if list[idx]>list[idx+1]:\n",
    "                list[idx],list[idx+1]=list[idx+1],list[idx]\n",
    "    return list"
   ]
  },
  {
   "cell_type": "code",
   "execution_count": 60,
   "id": "de4f92ce",
   "metadata": {},
   "outputs": [],
   "source": [
    "list = [25, 21, 22, 24, 23, 27, 26]"
   ]
  },
  {
   "cell_type": "code",
   "execution_count": 77,
   "id": "2bfb2a7c",
   "metadata": {},
   "outputs": [
    {
     "name": "stdout",
     "output_type": "stream",
     "text": [
      "0 [20, 60, 90, 40, 30, 10, 100]\n"
     ]
    },
    {
     "data": {
      "text/plain": [
       "[10, 20, 30, 40, 60, 90, 100]"
      ]
     },
     "execution_count": 77,
     "metadata": {},
     "output_type": "execute_result"
    }
   ],
   "source": [
    "BubbleSort(list)"
   ]
  },
  {
   "cell_type": "code",
   "execution_count": 75,
   "id": "51d44f2d",
   "metadata": {},
   "outputs": [
    {
     "name": "stdout",
     "output_type": "stream",
     "text": [
      "0 [100, 20, 60, 90, 40, 30, 10]\n",
      "1 [20, 100, 60, 90, 40, 30, 10]\n",
      "2 [20, 60, 100, 90, 40, 30, 10]\n",
      "3 [20, 60, 90, 100, 40, 30, 10]\n",
      "4 [20, 60, 90, 40, 100, 30, 10]\n",
      "5 [20, 60, 90, 40, 30, 100, 10]\n",
      "6 [20, 60, 90, 40, 30, 10, 100]\n"
     ]
    }
   ],
   "source": [
    "#latihan\n",
    "\n",
    "list = [100, 20, 60, 90, 40, 30, 10]\n",
    "\n",
    "lastElementIndex = len(list)-1\n",
    "print(0,list)\n",
    "for idx in range(lastElementIndex):\n",
    "        if list[idx]>list[idx+1]:\n",
    "            list[idx],list[idx+1]=list[idx+1],list[idx]\n",
    "            print(idx+1,list)"
   ]
  },
  {
   "cell_type": "code",
   "execution_count": 66,
   "id": "f47ebf43",
   "metadata": {},
   "outputs": [],
   "source": [
    "def InsertionSort(list):\n",
    "    for i in range (1, len(list)):\n",
    "        j = i-1\n",
    "        next = list[i]\n",
    "        \n",
    "        while (list[j] > next) and (j >= 0):\n",
    "            list [j+1] = list[j]\n",
    "            j=j-1\n",
    "        list[j+1] = next\n",
    "    return list"
   ]
  },
  {
   "cell_type": "code",
   "execution_count": 78,
   "id": "7ad345a3",
   "metadata": {},
   "outputs": [],
   "source": [
    "list = [89, 12, 57, 16, 25, 11, 75]"
   ]
  },
  {
   "cell_type": "code",
   "execution_count": 79,
   "id": "0ccecbdd",
   "metadata": {},
   "outputs": [
    {
     "data": {
      "text/plain": [
       "[11, 12, 16, 25, 57, 75, 89]"
      ]
     },
     "execution_count": 79,
     "metadata": {},
     "output_type": "execute_result"
    }
   ],
   "source": [
    "InsertionSort(list)"
   ]
  },
  {
   "cell_type": "code",
   "execution_count": 80,
   "id": "424a7484",
   "metadata": {},
   "outputs": [],
   "source": [
    "def SelectionSort(List):\n",
    "    for fill_slot in range(len(list) - 1, 0, -1):\n",
    "        max_index = 0\n",
    "        for location in range(1, fill_slot +1):\n",
    "            if list[location] > list[max_index]:\n",
    "                max_index = location\n",
    "        list[fill_slot],list[max_index] = list[max_index],list[fill_slot]\n",
    "    return list"
   ]
  },
  {
   "cell_type": "code",
   "execution_count": 82,
   "id": "8775b4e8",
   "metadata": {},
   "outputs": [],
   "source": [
    "list = [70,15,25,19,34,44]"
   ]
  },
  {
   "cell_type": "code",
   "execution_count": 83,
   "id": "92bb3dbc",
   "metadata": {},
   "outputs": [
    {
     "data": {
      "text/plain": [
       "[15, 19, 25, 34, 44, 70]"
      ]
     },
     "execution_count": 83,
     "metadata": {},
     "output_type": "execute_result"
    }
   ],
   "source": [
    "SelectionSort(list)"
   ]
  },
  {
   "cell_type": "code",
   "execution_count": 84,
   "id": "8627c7d1",
   "metadata": {},
   "outputs": [],
   "source": [
    "list = [89,12,57,16,25]"
   ]
  },
  {
   "cell_type": "code",
   "execution_count": 85,
   "id": "fcb7fe73",
   "metadata": {},
   "outputs": [
    {
     "data": {
      "text/plain": [
       "[12, 16, 25, 57, 89]"
      ]
     },
     "execution_count": 85,
     "metadata": {},
     "output_type": "execute_result"
    }
   ],
   "source": [
    "SelectionSort(list)"
   ]
  },
  {
   "cell_type": "code",
   "execution_count": 92,
   "id": "53b05340",
   "metadata": {},
   "outputs": [],
   "source": [
    "def LinearSearch(list, item):\n",
    "    index = 0\n",
    "    found = False\n",
    "    \n",
    "    while index < len(list) and found is False:\n",
    "        if list[index] == item:\n",
    "            found = True\n",
    "        else:\n",
    "            index = index + 1\n",
    "    return found"
   ]
  },
  {
   "cell_type": "code",
   "execution_count": 94,
   "id": "9df46340",
   "metadata": {},
   "outputs": [
    {
     "name": "stdout",
     "output_type": "stream",
     "text": [
      "True\n"
     ]
    }
   ],
   "source": [
    "list = ['y', 'u', 'i', 'w', 'o', 'a', 'q', 'u', 'p', 'j']\n",
    "print(LinearSearch(list, 'a'))"
   ]
  },
  {
   "cell_type": "code",
   "execution_count": 110,
   "id": "4bc5ae02",
   "metadata": {},
   "outputs": [],
   "source": [
    "def BinarySearch(list, item):\n",
    "    first = 0\n",
    "    last = len(list)-1\n",
    "    found = False\n",
    "    \n",
    "    while first<=last and not found:\n",
    "        midpoint = (first + last)//2\n",
    "        if list[midpoint] == item:\n",
    "                found = True\n",
    "        else:\n",
    "            if item < list[midpoint]:\n",
    "                last = midpoint-1\n",
    "            else:\n",
    "                first = midpoint+1\n",
    "    return found"
   ]
  },
  {
   "cell_type": "code",
   "execution_count": 117,
   "id": "b3bc7215",
   "metadata": {},
   "outputs": [
    {
     "name": "stdout",
     "output_type": "stream",
     "text": [
      "0 ['y', 'u', 'i', 'o', 'a', 'q', 'u', 'j', 'p']\n",
      "True\n"
     ]
    }
   ],
   "source": [
    "list = ['y', 'u', 'i', 'o', 'a', 'q', 'u', 'j', 'p']\n",
    "sorted_list = BubbleSort(list)\n",
    "print(BinarySearch(list, 'a'))"
   ]
  },
  {
   "cell_type": "code",
   "execution_count": 138,
   "id": "cd0296c0",
   "metadata": {},
   "outputs": [],
   "source": [
    "def IntPolsearch(list, x):\n",
    "    idx0 = 0\n",
    "    idxn = (len(list)-1)\n",
    "    found = False\n",
    "    while idx0 <= idxn and x >= list [idx0] and x <= list[idxn]:\n",
    "        \n",
    "        mid = idx0 + int(((float(idxn - idx0)/( list[idxn] - list[idx0])) * (x - list[idx0])))\n",
    "        \n",
    "        if list[mid] == x:\n",
    "            found = True\n",
    "            return found\n",
    "        \n",
    "        if list[mid] < x:\n",
    "            idx0 = mid + 1\n",
    "    return found\n",
    "    "
   ]
  },
  {
   "cell_type": "code",
   "execution_count": 139,
   "id": "810ad899",
   "metadata": {},
   "outputs": [
    {
     "name": "stdout",
     "output_type": "stream",
     "text": [
      "0 [2, 0, 2, 0, 0, 7, 1, 0, 0, 1]\n",
      "False\n"
     ]
    }
   ],
   "source": [
    "list = [2,0,2,0,0,7,1,0,0,1]\n",
    "sorted_list = BubbleSort(list)\n",
    "print(IntPolsearch(list, 4))"
   ]
  },
  {
   "cell_type": "code",
   "execution_count": null,
   "id": "9a6c3d45",
   "metadata": {},
   "outputs": [],
   "source": []
  }
 ],
 "metadata": {
  "kernelspec": {
   "display_name": "Python 3",
   "language": "python",
   "name": "python3"
  },
  "language_info": {
   "codemirror_mode": {
    "name": "ipython",
    "version": 3
   },
   "file_extension": ".py",
   "mimetype": "text/x-python",
   "name": "python",
   "nbconvert_exporter": "python",
   "pygments_lexer": "ipython3",
   "version": "3.8.8"
  }
 },
 "nbformat": 4,
 "nbformat_minor": 5
}
